{
 "cells": [
  {
   "cell_type": "markdown",
   "metadata": {},
   "source": [
    "# Explore the iCite API for gathering Publication data\n",
    "2023-11-22 ZD  \n",
    "\n",
    "Relevant Jira Ticket: [INS-790](https://tracker.nci.nih.gov/browse/INS-790)  \n",
    "\n",
    "Exploratory notebook to investigate gathering Publications data for INS from [the iCite API](https://icite.od.nih.gov/api). This wiil build upon the work to in `notebooks/07_gather_publications.ipynb` and `modules/gather_publication_data.py`.  \n",
    "\n",
    "The primary goal is to gather metrics specific to iCite: Citation Count and Relative Citation Ratio. The secondary goal is to explore whether the iCite API could replace the Biopython Entrez PubMed API, which is very slow. "
   ]
  },
  {
   "cell_type": "code",
   "execution_count": 15,
   "metadata": {},
   "outputs": [],
   "source": [
    "# Method to import from parent directory\n",
    "import os\n",
    "import sys\n",
    "root_dir = os.path.abspath(os.path.join(os.getcwd(), \"../\"))\n",
    "sys.path.append(root_dir)\n",
    "\n",
    "import requests\n",
    "import pandas as pd\n",
    "from tqdm import tqdm\n",
    "\n",
    "# Get all existing publication functions\n",
    "import modules.gather_publication_data as gpub"
   ]
  },
  {
   "cell_type": "code",
   "execution_count": 5,
   "metadata": {},
   "outputs": [
    {
     "name": "stdout",
     "output_type": "stream",
     "text": [
      "R01CA263500: (1/1): {'search_id': None, 'total': 7, 'offset': 0, 'limit': 500, 'sort_field': 'core_project_nums', 'sort_order': 'desc', 'sorted_by_relevance': False, 'properties': {}}\n"
     ]
    },
    {
     "data": {
      "text/plain": [
       "[{'coreproject': 'R01CA263500', 'pmid': 37138086, 'applid': 10679077},\n",
       " {'coreproject': 'R01CA263500', 'pmid': 36288726, 'applid': 10679077},\n",
       " {'coreproject': 'R01CA263500', 'pmid': 36917953, 'applid': 10679077},\n",
       " {'coreproject': 'R01CA263500', 'pmid': 36734849, 'applid': 10679077},\n",
       " {'coreproject': 'R01CA263500', 'pmid': 37059069, 'applid': 10679077},\n",
       " {'coreproject': 'R01CA263500', 'pmid': 35130560, 'applid': 10679077},\n",
       " {'coreproject': 'R01CA263500', 'pmid': 37024595, 'applid': 10679077}]"
      ]
     },
     "execution_count": 5,
     "metadata": {},
     "output_type": "execute_result"
    }
   ],
   "source": [
    "# Test imported functions\n",
    "gpub.get_pmids_from_nih_reporter_api('R01CA263500', print_meta=True)"
   ]
  },
  {
   "cell_type": "code",
   "execution_count": 11,
   "metadata": {},
   "outputs": [
    {
     "data": {
      "text/plain": [
       "{'publication_id': '37138086)',\n",
       " 'title': 'Glioblastoma remodelling of human neural circuits decreases survival.',\n",
       " 'authors': 'Saritha Krishna, Abrar Choudhury, Michael B Keough, Kyounghee Seo, Lijun Ni, Sofia Kakaizada, Anthony Lee, Alexander Aabedi, Galina Popova, Benjamin Lipkin, Caroline Cao, Cesar Nava Gonzales, Rasika Sudharshan, Andrew Egladyous, Nyle Almeida, Yalan Zhang, Annette M Molinaro, Humsa S Venkatesh, Andy G S Daniel, Kiarash Shamardani, Jeanette Hyer, Edward F Chang, Anne Findlay, Joanna J Phillips, Srikantan Nagarajan, David R Raleigh, David Brang, Michelle Monje, Shawn L Hervey-Jumper',\n",
       " 'publication_year': '2023'}"
      ]
     },
     "execution_count": 11,
     "metadata": {},
     "output_type": "execute_result"
    }
   ],
   "source": [
    "gpub.get_publication_info_from_pmid('37138086)')"
   ]
  },
  {
   "cell_type": "code",
   "execution_count": 7,
   "metadata": {},
   "outputs": [
    {
     "name": "stdout",
     "output_type": "stream",
     "text": [
      "{'pmid': 23456789, 'year': 2013, 'title': 'Hospital volume is associated with survival but not multimodality therapy in Medicare patients with advanced head and neck cancer.', 'authors': 'Arun Sharma, Stephen M Schwartz, Eduardo Méndez', 'journal': 'Cancer', 'is_research_article': 'Yes', 'relative_citation_ratio': 1.77, 'nih_percentile': 70.8, 'human': 1.0, 'animal': 0.0, 'molecular_cellular': 0.0, 'apt': 0.75, 'is_clinical': 'No', 'citation_count': 45, 'citations_per_year': 4.5, 'expected_citations_per_year': 2.547166821310601, 'field_citation_rate': 5.361749145554551, 'provisional': 'No', 'x_coord': 0.0, 'y_coord': 1.0, 'cited_by_clin': [25488965, 29180076], 'cited_by': [30186960, 34399637, 30220318, 37564472, 34795020, 28606602, 24123512, 36746098, 29100787, 26777060, 26553389, 25488965, 30194691, 35792549, 33556919, 27061951, 24706437, 29794540, 25042524, 28079775, 35547406, 32600116, 24488549, 31334365, 30409307, 35868508, 26868285, 29079897, 33449369, 32191271, 30698823, 25681489, 37847431, 30173901, 27571233, 28640546, 33998094, 36826717, 30737961, 25983103, 29180076, 29112234, 33857781, 30447127, 25797461], 'references': [3558716, 16161069, 20168233, 19340866, 14645636, 14568854, 8323597, 21181983, 15609302, 9552032, 15128894, 11146273, 9842949, 11463014, 10613347, 18436289, 1607900, 20589761, 15128893, 21125633, 18559875, 8985019, 22314971, 9423262, 12187164, 12187163, 15161894], 'doi': '10.1002/cncr.27976', 'last_modified': '10/31/2023, 06:39:28'}\n"
     ]
    }
   ],
   "source": [
    "# Basic iCite python example\n",
    "\n",
    "response = requests.get(\n",
    "    \"/\".join([\n",
    "        \"https://icite.od.nih.gov/api\",\n",
    "        \"pubs\",\n",
    "        \"23456789\",\n",
    "    ]),\n",
    ")\n",
    "pub = response.json()\n",
    "print(pub)"
   ]
  },
  {
   "cell_type": "markdown",
   "metadata": {},
   "source": [
    "### TRy a one-to-one replacement of the Entrez `get_publicatino_info_from_pmid` function"
   ]
  },
  {
   "cell_type": "code",
   "execution_count": 13,
   "metadata": {},
   "outputs": [],
   "source": [
    "def get_publication_info_from_pmid_icite(pmid):\n",
    "    \"\"\"\n",
    "    Get publication information for a given PMID using the iCite API.\n",
    "\n",
    "    :param pmid: PubMed ID (str)\n",
    "    :return: Dictionary containing publication information\n",
    "    \"\"\"\n",
    "    try:\n",
    "        # Use the iCite API to get publication data\n",
    "        response = requests.get(f\"https://icite.od.nih.gov/api/pubs/{pmid}\")\n",
    "        pub = response.json()\n",
    "\n",
    "        # Extract relevant information\n",
    "        publication_info = {\n",
    "            'publication_id': pub.get('pmid', ''),\n",
    "            'title': pub.get('title', ''),\n",
    "            'authors': pub.get('authors', ''),\n",
    "            'publication_year': pub.get('year', ''),\n",
    "            'doi':pub.get('doi', ''),\n",
    "            'citation_count': pub.get('citation_count', ''),\n",
    "            'relative_citation_ratio': pub.get('relative_citation_ratio', ''),\n",
    "        }\n",
    "\n",
    "        return publication_info\n",
    "\n",
    "    except Exception as e:\n",
    "        # Use tqdm.write() instead of print() for long processes\n",
    "        tqdm.write(f\"Error fetching information for PMID {pmid} from iCite API: {e}\")\n",
    "        #print(f\"Error fetching information for PMID {pmid} from iCite API: {e}\")\n",
    "        return None\n"
   ]
  },
  {
   "cell_type": "code",
   "execution_count": 28,
   "metadata": {},
   "outputs": [
    {
     "data": {
      "text/plain": [
       "{'publication_id': 37138086,\n",
       " 'title': 'Glioblastoma remodelling of human neural circuits decreases survival.',\n",
       " 'authors': 'Saritha Krishna, Abrar Choudhury, Michael B Keough, Kyounghee Seo, Lijun Ni, Sofia Kakaizada, Anthony Lee, Alexander Aabedi, Galina Popova, Benjamin Lipkin, Caroline Cao, Cesar Nava Gonzales, Rasika Sudharshan, Andrew Egladyous, Nyle Almeida, Yalan Zhang, Annette M Molinaro, Humsa S Venkatesh, Andy G S Daniel, Kiarash Shamardani, Jeanette Hyer, Edward F Chang, Anne Findlay, Joanna J Phillips, Srikantan Nagarajan, David R Raleigh, David Brang, Michelle Monje, Shawn L Hervey-Jumper',\n",
       " 'publication_year': 2023,\n",
       " 'doi': '10.1038/s41586-023-06036-1',\n",
       " 'citation_count': 21,\n",
       " 'relative_citation_ratio': 10.5}"
      ]
     },
     "execution_count": 28,
     "metadata": {},
     "output_type": "execute_result"
    }
   ],
   "source": [
    "get_publication_info_from_pmid_icite('37138086')"
   ]
  },
  {
   "cell_type": "code",
   "execution_count": 18,
   "metadata": {},
   "outputs": [],
   "source": [
    "# Checkpoint loading instead of regathering data during development\n",
    "pmid_filename = 'gathered_pmids_20231110.csv'\n",
    "df_pmid = pd.read_csv(pmid_filename)"
   ]
  },
  {
   "cell_type": "code",
   "execution_count": 22,
   "metadata": {},
   "outputs": [],
   "source": [
    "# Iterate through each unique PMID with tqdm progress bar\n",
    "def get_pub_info_test_loop(df_pmid):\n",
    "\n",
    "    df_pmid_info = pd.DataFrame()\n",
    "\n",
    "    for pmid in tqdm(df_pmid['pmid'].unique(), \n",
    "                    #total=remaining_pmid_count, \n",
    "                    ncols=80):\n",
    "        try:\n",
    "            # Use PubMed API to get publication data\n",
    "            publication_info = get_publication_info_from_pmid_icite(pmid)\n",
    "\n",
    "            if publication_info:\n",
    "                # Combine the information with the original DataFrame\n",
    "                df_current = pd.DataFrame({\n",
    "                    'pmid': pmid,\n",
    "                    'title': publication_info['title'],\n",
    "                    'authors': publication_info['authors'],\n",
    "                    'publication_year': publication_info['publication_year'],\n",
    "                    'doi': publication_info['doi'],\n",
    "                    'citation_count': publication_info['citation_count'],\n",
    "                    'relative_citation_ratio': publication_info['relative_citation_ratio']\n",
    "                }, index=[0])\n",
    "\n",
    "                # Add the current DataFrame to df_pmid_info\n",
    "                df_pmid_info = pd.concat([df_pmid_info, df_current], ignore_index=True)\n",
    "\n",
    "        except Exception as e:\n",
    "            print(f\"Error processing PMID {pmid}: {e}\")\n",
    "            # Fill in fields with NaN if not available\n",
    "            df_current = pd.DataFrame({\n",
    "                'pmid': pmid,\n",
    "                'title': pd.NA,\n",
    "                'authors': pd.NA,\n",
    "                'publication_year': pd.NA,\n",
    "                'doi': pd.NA,\n",
    "                'citation_count': pd.NA,\n",
    "                'relative_citation_ratio': pd.NA\n",
    "            }, index=[0])\n",
    "\n",
    "            # Add the current DataFrame to df_pmid_info\n",
    "            df_pmid_info = pd.concat([df_pmid_info, df_current], ignore_index=True)\n",
    "\n",
    "    return df_pmid_info"
   ]
  },
  {
   "cell_type": "code",
   "execution_count": 26,
   "metadata": {},
   "outputs": [
    {
     "name": "stderr",
     "output_type": "stream",
     "text": [
      "  0%|                                           | 1/914 [00:00<11:27,  1.33it/s]C:\\Users\\dormanza\\AppData\\Local\\Temp\\2\\ipykernel_13608\\659356853.py:26: FutureWarning: The behavior of DataFrame concatenation with empty or all-NA entries is deprecated. In a future version, this will no longer exclude empty or all-NA columns when determining the result dtypes. To retain the old behavior, exclude the relevant entries before the concat operation.\n",
      "  df_pmid_info = pd.concat([df_pmid_info, df_current], ignore_index=True)\n",
      "100%|█████████████████████████████████████████| 914/914 [13:41<00:00,  1.11it/s]\n"
     ]
    }
   ],
   "source": [
    "df_pmid_info_icite = get_pub_info_test_loop(df_pmid.head(1000))"
   ]
  },
  {
   "cell_type": "code",
   "execution_count": 27,
   "metadata": {},
   "outputs": [
    {
     "data": {
      "text/html": [
       "<div>\n",
       "<style scoped>\n",
       "    .dataframe tbody tr th:only-of-type {\n",
       "        vertical-align: middle;\n",
       "    }\n",
       "\n",
       "    .dataframe tbody tr th {\n",
       "        vertical-align: top;\n",
       "    }\n",
       "\n",
       "    .dataframe thead th {\n",
       "        text-align: right;\n",
       "    }\n",
       "</style>\n",
       "<table border=\"1\" class=\"dataframe\">\n",
       "  <thead>\n",
       "    <tr style=\"text-align: right;\">\n",
       "      <th></th>\n",
       "      <th>pmid</th>\n",
       "      <th>title</th>\n",
       "      <th>authors</th>\n",
       "      <th>publication_year</th>\n",
       "      <th>doi</th>\n",
       "      <th>citation_count</th>\n",
       "      <th>relative_citation_ratio</th>\n",
       "    </tr>\n",
       "  </thead>\n",
       "  <tbody>\n",
       "    <tr>\n",
       "      <th>0</th>\n",
       "      <td>36127808</td>\n",
       "      <td>Genetic ancestry, differential gene expression...</td>\n",
       "      <td>Freddy A Barragan, Lauren J Mills, Andrew R Ra...</td>\n",
       "      <td>2023</td>\n",
       "      <td>10.1002/cam4.5266</td>\n",
       "      <td>4</td>\n",
       "      <td>NaN</td>\n",
       "    </tr>\n",
       "    <tr>\n",
       "      <th>1</th>\n",
       "      <td>29074302</td>\n",
       "      <td>Endogenous antibody responses to mucin 1 in a ...</td>\n",
       "      <td>Janardan P Pandey, Aryan M Namboodiri, Bethany...</td>\n",
       "      <td>2018</td>\n",
       "      <td>10.1016/j.imbio.2017.10.028</td>\n",
       "      <td>2</td>\n",
       "      <td>0.09</td>\n",
       "    </tr>\n",
       "    <tr>\n",
       "      <th>2</th>\n",
       "      <td>31387361</td>\n",
       "      <td>Defects in the Exocyst-Cilia Machinery Cause B...</td>\n",
       "      <td>Diana Fulmer, Katelynn Toomer, Lilong Guo, Kel...</td>\n",
       "      <td>2019</td>\n",
       "      <td>10.1161/CIRCULATIONAHA.119.038376</td>\n",
       "      <td>34</td>\n",
       "      <td>1.95</td>\n",
       "    </tr>\n",
       "    <tr>\n",
       "      <th>3</th>\n",
       "      <td>29027980</td>\n",
       "      <td>The Plasticizer Bisphenol A Perturbs the Hepat...</td>\n",
       "      <td>Ludivine Renaud, Willian A da Silveira, E Star...</td>\n",
       "      <td>2017</td>\n",
       "      <td>10.3390/genes8100269</td>\n",
       "      <td>20</td>\n",
       "      <td>1.17</td>\n",
       "    </tr>\n",
       "    <tr>\n",
       "      <th>4</th>\n",
       "      <td>29309429</td>\n",
       "      <td>ShinyGPA: An interactive visualization toolkit...</td>\n",
       "      <td>Emma Kortemeier, Paula S Ramos, Kelly J Hunt, ...</td>\n",
       "      <td>2018</td>\n",
       "      <td>10.1371/journal.pone.0190949</td>\n",
       "      <td>2</td>\n",
       "      <td>0.08</td>\n",
       "    </tr>\n",
       "    <tr>\n",
       "      <th>...</th>\n",
       "      <td>...</td>\n",
       "      <td>...</td>\n",
       "      <td>...</td>\n",
       "      <td>...</td>\n",
       "      <td>...</td>\n",
       "      <td>...</td>\n",
       "      <td>...</td>\n",
       "    </tr>\n",
       "    <tr>\n",
       "      <th>909</th>\n",
       "      <td>32276990</td>\n",
       "      <td>Mesenchymal and MAPK Expression Signatures Ass...</td>\n",
       "      <td>Josh Lewis Stern, Grace Hibshman, Kevin Hu, Sa...</td>\n",
       "      <td>2020</td>\n",
       "      <td>10.1158/1541-7786.MCR-19-1244</td>\n",
       "      <td>17</td>\n",
       "      <td>1.13</td>\n",
       "    </tr>\n",
       "    <tr>\n",
       "      <th>910</th>\n",
       "      <td>32525984</td>\n",
       "      <td>Tissue- and development-stage-specific mRNA an...</td>\n",
       "      <td>Anshuman Panda, Anupama Yadav, Huwate Yeerna, ...</td>\n",
       "      <td>2020</td>\n",
       "      <td>10.1093/nar/gkaa485</td>\n",
       "      <td>12</td>\n",
       "      <td>0.76</td>\n",
       "    </tr>\n",
       "    <tr>\n",
       "      <th>911</th>\n",
       "      <td>36371231</td>\n",
       "      <td>Differential regulation of TNFα and IL-6 expre...</td>\n",
       "      <td>Ida Deichaite, Timothy J Sears, Leisa Sutton, ...</td>\n",
       "      <td>2022</td>\n",
       "      <td>10.1186/s12967-022-03731-x</td>\n",
       "      <td>2</td>\n",
       "      <td>0.57</td>\n",
       "    </tr>\n",
       "    <tr>\n",
       "      <th>912</th>\n",
       "      <td>37682073</td>\n",
       "      <td>Transcriptional subtypes of glottic cancer cha...</td>\n",
       "      <td>Bharat A Panuganti, Christine Carico, Harishan...</td>\n",
       "      <td>2023</td>\n",
       "      <td>10.1002/hed.27514</td>\n",
       "      <td>0</td>\n",
       "      <td>NaN</td>\n",
       "    </tr>\n",
       "    <tr>\n",
       "      <th>913</th>\n",
       "      <td>37306759</td>\n",
       "      <td>Syk Inhibition Reprograms Tumor-Associated Mac...</td>\n",
       "      <td>Deepak Rohila, In Hwan Park, Timothy V Pham, J...</td>\n",
       "      <td>2023</td>\n",
       "      <td>10.1158/0008-5472.CAN-22-3645</td>\n",
       "      <td>0</td>\n",
       "      <td>NaN</td>\n",
       "    </tr>\n",
       "  </tbody>\n",
       "</table>\n",
       "<p>914 rows × 7 columns</p>\n",
       "</div>"
      ],
      "text/plain": [
       "         pmid                                              title  \\\n",
       "0    36127808  Genetic ancestry, differential gene expression...   \n",
       "1    29074302  Endogenous antibody responses to mucin 1 in a ...   \n",
       "2    31387361  Defects in the Exocyst-Cilia Machinery Cause B...   \n",
       "3    29027980  The Plasticizer Bisphenol A Perturbs the Hepat...   \n",
       "4    29309429  ShinyGPA: An interactive visualization toolkit...   \n",
       "..        ...                                                ...   \n",
       "909  32276990  Mesenchymal and MAPK Expression Signatures Ass...   \n",
       "910  32525984  Tissue- and development-stage-specific mRNA an...   \n",
       "911  36371231  Differential regulation of TNFα and IL-6 expre...   \n",
       "912  37682073  Transcriptional subtypes of glottic cancer cha...   \n",
       "913  37306759  Syk Inhibition Reprograms Tumor-Associated Mac...   \n",
       "\n",
       "                                               authors  publication_year  \\\n",
       "0    Freddy A Barragan, Lauren J Mills, Andrew R Ra...              2023   \n",
       "1    Janardan P Pandey, Aryan M Namboodiri, Bethany...              2018   \n",
       "2    Diana Fulmer, Katelynn Toomer, Lilong Guo, Kel...              2019   \n",
       "3    Ludivine Renaud, Willian A da Silveira, E Star...              2017   \n",
       "4    Emma Kortemeier, Paula S Ramos, Kelly J Hunt, ...              2018   \n",
       "..                                                 ...               ...   \n",
       "909  Josh Lewis Stern, Grace Hibshman, Kevin Hu, Sa...              2020   \n",
       "910  Anshuman Panda, Anupama Yadav, Huwate Yeerna, ...              2020   \n",
       "911  Ida Deichaite, Timothy J Sears, Leisa Sutton, ...              2022   \n",
       "912  Bharat A Panuganti, Christine Carico, Harishan...              2023   \n",
       "913  Deepak Rohila, In Hwan Park, Timothy V Pham, J...              2023   \n",
       "\n",
       "                                   doi  citation_count  \\\n",
       "0                    10.1002/cam4.5266               4   \n",
       "1          10.1016/j.imbio.2017.10.028               2   \n",
       "2    10.1161/CIRCULATIONAHA.119.038376              34   \n",
       "3                 10.3390/genes8100269              20   \n",
       "4         10.1371/journal.pone.0190949               2   \n",
       "..                                 ...             ...   \n",
       "909      10.1158/1541-7786.MCR-19-1244              17   \n",
       "910                10.1093/nar/gkaa485              12   \n",
       "911         10.1186/s12967-022-03731-x               2   \n",
       "912                  10.1002/hed.27514               0   \n",
       "913      10.1158/0008-5472.CAN-22-3645               0   \n",
       "\n",
       "     relative_citation_ratio  \n",
       "0                        NaN  \n",
       "1                       0.09  \n",
       "2                       1.95  \n",
       "3                       1.17  \n",
       "4                       0.08  \n",
       "..                       ...  \n",
       "909                     1.13  \n",
       "910                     0.76  \n",
       "911                     0.57  \n",
       "912                      NaN  \n",
       "913                      NaN  \n",
       "\n",
       "[914 rows x 7 columns]"
      ]
     },
     "execution_count": 27,
     "metadata": {},
     "output_type": "execute_result"
    }
   ],
   "source": [
    "df_pmid_info_icite"
   ]
  },
  {
   "cell_type": "markdown",
   "metadata": {},
   "source": [
    "### Try processing in batches for fewer API calls\n",
    "The above approach works but is even slower per iteration than the Entrez API (~15min for 1000). Try a batching approach where multiple PMIDs are sent in a single call."
   ]
  },
  {
   "cell_type": "code",
   "execution_count": 37,
   "metadata": {},
   "outputs": [],
   "source": [
    "def get_publication_info_from_pmid_icite_batch(pmids):\n",
    "    \"\"\"\n",
    "    Get publication information for a list of PMIDs using the iCite API.\n",
    "\n",
    "    :param pmids: List of PubMed IDs (str)\n",
    "    :return: DataFrame containing publication information\n",
    "    \"\"\"\n",
    "    try:\n",
    "        # Join PMIDs into a comma-separated string\n",
    "        pmid_str = ','.join(pmids)\n",
    "        \n",
    "        # Use the iCite API to get publication data for all PMIDs\n",
    "        response = requests.get(f\"https://icite.od.nih.gov/api/pubs?pmids={pmid_str}\")\n",
    "        pubs = response.json()\n",
    "\n",
    "        # Initialize an empty list to store publication information for each PMID\n",
    "        publication_info_list = []\n",
    "\n",
    "        for pub in pubs:\n",
    "            # Extract relevant information\n",
    "            publication_info = {\n",
    "                'pmid': pub.get('pmid', ''),\n",
    "                'title': pub.get('title', ''),\n",
    "                'authors': pub.get('authors', ''),\n",
    "                'publication_year': pub.get('year', ''),\n",
    "                'doi': pub.get('doi', ''),\n",
    "                'citation_count': pub.get('citation_count', ''),\n",
    "                'relative_citation_ratio': pub.get('relative_citation_ratio', ''),\n",
    "            }\n",
    "            \n",
    "            # Add data to running list\n",
    "            publication_info_list.append(publication_info)\n",
    "\n",
    "        return pd.DataFrame(publication_info_list)\n",
    "\n",
    "    except Exception as e:\n",
    "        print(f\"Error fetching information for PMIDs {pmids} from iCite API: {e}\")\n",
    "        return pd.DataFrame()"
   ]
  },
  {
   "cell_type": "code",
   "execution_count": 39,
   "metadata": {},
   "outputs": [],
   "source": [
    "def get_pub_info_batched(df_pmid, batch_size=10):\n",
    "    df_pmid_info = pd.DataFrame()\n",
    "\n",
    "    # Extract unique PMIDs\n",
    "    unique_pmids = df_pmid['pmid'].unique()\n",
    "\n",
    "    # Split PMIDs into batches\n",
    "    pmid_batches = [\n",
    "        unique_pmids[i : i + batch_size].astype(str) for i in range(0, len(unique_pmids), batch_size)\n",
    "    ]\n",
    "\n",
    "    for batch in tqdm(pmid_batches, ncols=80):\n",
    "        try:\n",
    "            # Use iCite API to get publication data for the batch\n",
    "            batch_info = [get_publication_info_from_pmid_icite(pmid) for pmid in batch]\n",
    "\n",
    "            # Filter out None results (failed API calls)\n",
    "            batch_info = [info for info in batch_info if info is not None]\n",
    "\n",
    "            # Combine the information with the original DataFrame\n",
    "            df_current = pd.DataFrame(batch_info)\n",
    "\n",
    "            # Add the current DataFrame to df_pmid_info\n",
    "            df_pmid_info = pd.concat([df_pmid_info, df_current], ignore_index=True)\n",
    "\n",
    "        except Exception as e:\n",
    "            print(f\"Error processing batch of PMIDs: {e}\")\n",
    "\n",
    "    return df_pmid_info"
   ]
  },
  {
   "cell_type": "code",
   "execution_count": 42,
   "metadata": {},
   "outputs": [
    {
     "name": "stderr",
     "output_type": "stream",
     "text": [
      "  1%|▍                                          | 1/100 [00:00<01:17,  1.28it/s]C:\\Users\\dormanza\\AppData\\Local\\Temp\\2\\ipykernel_13608\\659356853.py:26: FutureWarning: The behavior of DataFrame concatenation with empty or all-NA entries is deprecated. In a future version, this will no longer exclude empty or all-NA columns when determining the result dtypes. To retain the old behavior, exclude the relevant entries before the concat operation.\n",
      "  df_pmid_info = pd.concat([df_pmid_info, df_current], ignore_index=True)\n",
      "100%|█████████████████████████████████████████| 100/100 [01:22<00:00,  1.22it/s]\n"
     ]
    }
   ],
   "source": [
    "# No batching\n",
    "test = get_pub_info_test_loop(df_pmid.head(100))"
   ]
  },
  {
   "cell_type": "code",
   "execution_count": 40,
   "metadata": {},
   "outputs": [
    {
     "name": "stderr",
     "output_type": "stream",
     "text": [
      "100%|███████████████████████████████████████████| 10/10 [01:17<00:00,  7.77s/it]\n"
     ]
    }
   ],
   "source": [
    "# Batch size default 10\n",
    "test = get_pub_info_batched(df_pmid.head(100))"
   ]
  },
  {
   "cell_type": "markdown",
   "metadata": {},
   "source": [
    "#### Compare timing of gathering iCite PMID info in single vs batched calls\n",
    "Table gathers data from cells below\n",
    "\n",
    "| API    | PMIDs | Batch Size| Time (mm:ss)| Rate (s/pmid) |\n",
    "| ------:| -----:| ---------:| -----------:| -------------:|\n",
    "| Entrez | 100   | None      | 00:34        | 0.34   |\n",
    "| iCite  | 100   | None      | 01:22        | 0.82   |\n",
    "| iCite  | 100   | 1         | 01:18        | 0.78   |\n",
    "| iCite  | 100   | 5         | 01:18        | 0.78   |\n",
    "| iCite  | 100   | 10        | 01:18        | 0.78   |\n",
    "| iCite  | 100   | 50        | 01:19        | 0.79   |\n",
    "| Entrez | 500   | None      | 02:08        | 0.26   |\n",
    "| iCite  | 500   | None      | 07:09        | 0.86   |\n",
    "| iCite  | 500   | 100       | 06:52        | 0.82   |\n",
    "\n",
    "\n",
    "\n",
    "#### Summary\n",
    "1. The Entrez API is 3-4 times faster than the iCite API\n",
    "2. Batching the iCite API calls does not significantly improve performance"
   ]
  },
  {
   "cell_type": "code",
   "execution_count": 44,
   "metadata": {},
   "outputs": [
    {
     "name": "stderr",
     "output_type": "stream",
     "text": [
      "  0%|                                           | 1/494 [00:00<07:24,  1.11it/s]C:\\Users\\dormanza\\AppData\\Local\\Temp\\2\\ipykernel_13608\\659356853.py:26: FutureWarning: The behavior of DataFrame concatenation with empty or all-NA entries is deprecated. In a future version, this will no longer exclude empty or all-NA columns when determining the result dtypes. To retain the old behavior, exclude the relevant entries before the concat operation.\n",
      "  df_pmid_info = pd.concat([df_pmid_info, df_current], ignore_index=True)\n",
      " 98%|████████████████████████████████████████▎| 486/494 [06:45<00:06,  1.30it/s]"
     ]
    }
   ],
   "source": [
    "# 500 pmids, no batching\n",
    "test = get_pub_info_test_loop(df_pmid.head(500))"
   ]
  },
  {
   "cell_type": "code",
   "execution_count": 43,
   "metadata": {},
   "outputs": [
    {
     "name": "stderr",
     "output_type": "stream",
     "text": [
      "100%|█████████████████████████████████████████████| 5/5 [07:09<00:00, 85.85s/it]\n"
     ]
    }
   ],
   "source": [
    "# 500 pmids, batch size 100\n",
    "test = get_pub_info_batched(df_pmid.head(500), batch_size=100)"
   ]
  },
  {
   "cell_type": "code",
   "execution_count": 47,
   "metadata": {},
   "outputs": [
    {
     "name": "stderr",
     "output_type": "stream",
     "text": [
      "100%|███████████████████████████████████████████| 20/20 [01:18<00:00,  3.92s/it]\n"
     ]
    }
   ],
   "source": [
    "# 100 pmids, batch size 5\n",
    "test = get_pub_info_batched(df_pmid.head(100), batch_size=5)"
   ]
  },
  {
   "cell_type": "code",
   "execution_count": 48,
   "metadata": {},
   "outputs": [
    {
     "name": "stderr",
     "output_type": "stream",
     "text": [
      "100%|█████████████████████████████████████████████| 2/2 [01:18<00:00, 39.35s/it]\n"
     ]
    }
   ],
   "source": [
    "# 100 pmids, batch size 50\n",
    "test = get_pub_info_batched(df_pmid.head(100), batch_size=50)"
   ]
  },
  {
   "cell_type": "code",
   "execution_count": 49,
   "metadata": {},
   "outputs": [
    {
     "name": "stderr",
     "output_type": "stream",
     "text": [
      "  1%|▍                                          | 1/100 [00:00<01:09,  1.43it/s]C:\\Users\\dormanza\\AppData\\Local\\Temp\\2\\ipykernel_13608\\2002022982.py:24: FutureWarning: The behavior of DataFrame concatenation with empty or all-NA entries is deprecated. In a future version, this will no longer exclude empty or all-NA columns when determining the result dtypes. To retain the old behavior, exclude the relevant entries before the concat operation.\n",
      "  df_pmid_info = pd.concat([df_pmid_info, df_current], ignore_index=True)\n",
      "100%|█████████████████████████████████████████| 100/100 [01:18<00:00,  1.27it/s]\n"
     ]
    }
   ],
   "source": [
    "# 100 pmids, batch size 1\n",
    "test = get_pub_info_batched(df_pmid.head(100), batch_size=1)"
   ]
  },
  {
   "cell_type": "code",
   "execution_count": 50,
   "metadata": {},
   "outputs": [],
   "source": [
    "# Iterate through each unique PMID with tqdm progress bar\n",
    "def get_pub_info_test_loop_entrez(df_pmid):\n",
    "\n",
    "    df_pmid_info = pd.DataFrame()\n",
    "\n",
    "    for pmid in tqdm(df_pmid['pmid'].unique(), \n",
    "                    #total=remaining_pmid_count, \n",
    "                    ncols=80):\n",
    "        try:\n",
    "            # Use PubMed API to get publication data\n",
    "            publication_info = gpub.get_publication_info_from_pmid(pmid)\n",
    "\n",
    "            if publication_info:\n",
    "                # Combine the information with the original DataFrame\n",
    "                df_current = pd.DataFrame({\n",
    "                    'pmid': pmid,\n",
    "                    'title': publication_info['title'],\n",
    "                    'authors': publication_info['authors'],\n",
    "                    'publication_year': publication_info['publication_year'],\n",
    "                    # 'doi': publication_info['doi'],\n",
    "                    # 'citation_count': publication_info['citation_count'],\n",
    "                    # 'relative_citation_ratio': publication_info['relative_citation_ratio']\n",
    "                }, index=[0])\n",
    "\n",
    "                # Add the current DataFrame to df_pmid_info\n",
    "                df_pmid_info = pd.concat([df_pmid_info, df_current], ignore_index=True)\n",
    "\n",
    "        except Exception as e:\n",
    "            print(f\"Error processing PMID {pmid}: {e}\")\n",
    "            # Fill in fields with NaN if not available\n",
    "            df_current = pd.DataFrame({\n",
    "                'pmid': pmid,\n",
    "                'title': pd.NA,\n",
    "                'authors': pd.NA,\n",
    "                'publication_year': pd.NA,\n",
    "                # 'doi': pd.NA,\n",
    "                # 'citation_count': pd.NA,\n",
    "                # 'relative_citation_ratio': pd.NA\n",
    "            }, index=[0])\n",
    "\n",
    "            # Add the current DataFrame to df_pmid_info\n",
    "            df_pmid_info = pd.concat([df_pmid_info, df_current], ignore_index=True)\n",
    "\n",
    "    return df_pmid_info"
   ]
  },
  {
   "cell_type": "code",
   "execution_count": 51,
   "metadata": {},
   "outputs": [
    {
     "name": "stderr",
     "output_type": "stream",
     "text": [
      "100%|█████████████████████████████████████████| 100/100 [00:34<00:00,  2.89it/s]\n"
     ]
    }
   ],
   "source": [
    "# 100 pmids, Entrez method\n",
    "test = get_pub_info_test_loop_entrez(df_pmid.head(100))"
   ]
  },
  {
   "cell_type": "code",
   "execution_count": 53,
   "metadata": {},
   "outputs": [
    {
     "name": "stderr",
     "output_type": "stream",
     "text": [
      " 89%|████████████████████████████████████▋    | 442/494 [01:52<00:10,  4.75it/s]"
     ]
    },
    {
     "name": "stdout",
     "output_type": "stream",
     "text": [
      "Error fetching information for PMID 33579955: list index out of range\n"
     ]
    },
    {
     "name": "stderr",
     "output_type": "stream",
     "text": [
      " 95%|███████████████████████████████████████  | 470/494 [02:02<00:04,  4.98it/s]"
     ]
    },
    {
     "name": "stdout",
     "output_type": "stream",
     "text": [
      "Error fetching information for PMID 33574288: list index out of range\n"
     ]
    },
    {
     "name": "stderr",
     "output_type": "stream",
     "text": [
      "100%|█████████████████████████████████████████| 494/494 [02:08<00:00,  3.86it/s]\n"
     ]
    }
   ],
   "source": [
    "# 100 pmids, Entrez method\n",
    "test = get_pub_info_test_loop_entrez(df_pmid.head(500))"
   ]
  },
  {
   "cell_type": "markdown",
   "metadata": {},
   "source": [
    "#### See if pulling fewer fields from iCite is faster"
   ]
  },
  {
   "cell_type": "code",
   "execution_count": 61,
   "metadata": {},
   "outputs": [],
   "source": [
    "def get_publication_info_from_pmid_icite(pmid, fields='all'):\n",
    "    \"\"\"\n",
    "    Get publication information for a given PMID using the iCite API.\n",
    "\n",
    "    :param pmid: PubMed ID (str)\n",
    "    :return: Dictionary containing publication information\n",
    "    \"\"\"\n",
    "    try:\n",
    "        # Use the iCite API to get publication data\n",
    "        if fields == ['all']:\n",
    "            response = requests.get(f\"https://icite.od.nih.gov/api/pubs/{pmid}\")\n",
    "        \n",
    "        # If a list of fields is provided, include only those in the response\n",
    "        else:\n",
    "            field_str = ','.join(fields)\n",
    "            response = requests.get(f\"https://icite.od.nih.gov/api/pubs/{pmid}\"\n",
    "                                    f\"&fl={field_str}\")\n",
    "        pub = response.json()\n",
    "\n",
    "        # Extract relevant information\n",
    "        publication_info = {\n",
    "            'publication_id': pub.get('pmid', ''),\n",
    "            # 'title': pub.get('title', ''),\n",
    "            # 'authors': pub.get('authors', ''),\n",
    "            # 'publication_year': pub.get('year', ''),\n",
    "            'doi':pub.get('doi', ''),\n",
    "            'citation_count': pub.get('citation_count', ''),\n",
    "            'relative_citation_ratio': pub.get('relative_citation_ratio', ''),\n",
    "        }\n",
    "\n",
    "        return publication_info\n",
    "\n",
    "    except Exception as e:\n",
    "        # Use tqdm.write() instead of print() for long processes\n",
    "        tqdm.write(f\"Error fetching information for PMID {pmid} from iCite API: {e}\")\n",
    "        #print(f\"Error fetching information for PMID {pmid} from iCite API: {e}\")\n",
    "        return None\n",
    "\n",
    "# Iterate through each unique PMID with tqdm progress bar\n",
    "def get_pub_info_test_loop(df_pmid, fields='all'):\n",
    "\n",
    "    df_pmid_info = pd.DataFrame()\n",
    "\n",
    "    for pmid in tqdm(df_pmid['pmid'].unique(), \n",
    "                    #total=remaining_pmid_count, \n",
    "                    ncols=80):\n",
    "        try:\n",
    "            # Use PubMed API to get publication data\n",
    "            publication_info = get_publication_info_from_pmid_icite(pmid, fields)\n",
    "\n",
    "            if publication_info:\n",
    "                # Combine the information with the original DataFrame\n",
    "                df_current = pd.DataFrame({\n",
    "                    'pmid': pmid,\n",
    "                    # 'title': publication_info['title'],\n",
    "                    # 'authors': publication_info['authors'],\n",
    "                    # 'publication_year': publication_info['publication_year'],\n",
    "                    'doi': publication_info['doi'],\n",
    "                    'citation_count': publication_info['citation_count'],\n",
    "                    'relative_citation_ratio': publication_info['relative_citation_ratio']\n",
    "                }, index=[0])\n",
    "\n",
    "                # Add the current DataFrame to df_pmid_info\n",
    "                df_pmid_info = pd.concat([df_pmid_info, df_current], ignore_index=True)\n",
    "\n",
    "        except Exception as e:\n",
    "            print(f\"Error processing PMID {pmid}: {e}\")\n",
    "            # Fill in fields with NaN if not available\n",
    "            df_current = pd.DataFrame({\n",
    "                'pmid': pmid,\n",
    "                # 'title': pd.NA,\n",
    "                # 'authors': pd.NA,\n",
    "                # 'publication_year': pd.NA,\n",
    "                'doi': pd.NA,\n",
    "                'citation_count': pd.NA,\n",
    "                'relative_citation_ratio': pd.NA\n",
    "            }, index=[0])\n",
    "\n",
    "            # Add the current DataFrame to df_pmid_info\n",
    "            df_pmid_info = pd.concat([df_pmid_info, df_current], ignore_index=True)\n",
    "\n",
    "    return df_pmid_info"
   ]
  },
  {
   "cell_type": "code",
   "execution_count": 62,
   "metadata": {},
   "outputs": [
    {
     "name": "stderr",
     "output_type": "stream",
     "text": [
      "100%|█████████████████████████████████████████| 100/100 [01:19<00:00,  1.26it/s]\n"
     ]
    }
   ],
   "source": [
    "test = get_pub_info_test_loop(df_pmid.head(100), fields=['pmid', 'citation_count', 'doi', 'relative_citation_ratio'])"
   ]
  },
  {
   "cell_type": "markdown",
   "metadata": {},
   "source": [
    "No notable change in runtime. 1:19m vs 1:22m to complete 100 pmids, gathering either a few or all fields"
   ]
  }
 ],
 "metadata": {
  "kernelspec": {
   "display_name": "ins-data-env",
   "language": "python",
   "name": "python3"
  },
  "language_info": {
   "codemirror_mode": {
    "name": "ipython",
    "version": 3
   },
   "file_extension": ".py",
   "mimetype": "text/x-python",
   "name": "python",
   "nbconvert_exporter": "python",
   "pygments_lexer": "ipython3",
   "version": "3.11.5"
  }
 },
 "nbformat": 4,
 "nbformat_minor": 2
}
